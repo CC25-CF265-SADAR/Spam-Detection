{
 "cells": [
  {
   "cell_type": "code",
   "execution_count": 1,
   "id": "fa271143",
   "metadata": {},
   "outputs": [
    {
     "name": "stderr",
     "output_type": "stream",
     "text": [
      "[nltk_data] Downloading package punkt to\n",
      "[nltk_data]     C:\\Users\\asus\\AppData\\Roaming\\nltk_data...\n",
      "[nltk_data]   Package punkt is already up-to-date!\n",
      "[nltk_data] Downloading package punkt_tab to\n",
      "[nltk_data]     C:\\Users\\asus\\AppData\\Roaming\\nltk_data...\n",
      "[nltk_data]   Package punkt_tab is already up-to-date!\n",
      "[nltk_data] Downloading package stopwords to\n",
      "[nltk_data]     C:\\Users\\asus\\AppData\\Roaming\\nltk_data...\n",
      "[nltk_data]   Package stopwords is already up-to-date!\n"
     ]
    }
   ],
   "source": [
    "import pickle\n",
    "import numpy as np\n",
    "from keras.models import load_model\n",
    "from lime.lime_text import LimeTextExplainer\n",
    "\n",
    "# Fungsi preprocessing (impor dari file)\n",
    "from python_backend.utils.spam_preprocess_text import preprocess_text\n",
    "from python_backend.utils.spam_predict_and_explain import predict_and_explain_spam"
   ]
  },
  {
   "cell_type": "code",
   "execution_count": 4,
   "id": "1d3e05f7",
   "metadata": {},
   "outputs": [
    {
     "name": "stderr",
     "output_type": "stream",
     "text": [
      "WARNING:absl:Compiled the loaded model, but the compiled metrics have yet to be built. `model.compile_metrics` will be empty until you train or evaluate the model.\n"
     ]
    }
   ],
   "source": [
    "model = load_model(\"python_backend/model/model_spam.h5\")\n",
    "with open(\"python_backend/model/tfidf_vectorizer.pkl\", \"rb\") as f:\n",
    "    vectorizer = pickle.load(f)\n",
    "\n",
    "explainer = LimeTextExplainer(class_names=[\"Not SPAM\", \"SPAM\"])"
   ]
  },
  {
   "cell_type": "code",
   "execution_count": 7,
   "id": "2e62611f",
   "metadata": {},
   "outputs": [
    {
     "name": "stdout",
     "output_type": "stream",
     "text": [
      "\u001b[1m1/1\u001b[0m \u001b[32m━━━━━━━━━━━━━━━━━━━━\u001b[0m\u001b[37m\u001b[0m \u001b[1m0s\u001b[0m 40ms/step\n",
      "\n",
      "Kalimat yang dimasukkan: YOI4D  Freebet 20 k Bonus Extra Deposit 25K Cashback 100% EVENT PRAGMATIC ALL 20% Event PGSOFT Terendah Deposit 10 Ribu  klik LINK https://tinyurl.com/2j328akt\n",
      "Prediksi: SPAM (Probabilitas Model: 0.98)\n",
      "Pesan ini adalah SPAM 🚫\n",
      "\u001b[1m157/157\u001b[0m \u001b[32m━━━━━━━━━━━━━━━━━━━━\u001b[0m\u001b[37m\u001b[0m \u001b[1m0s\u001b[0m 2ms/step\n",
      "\n",
      "Kata-kata yang berkontribusi (terhadap SPAM menurut Model):\n",
      "- klik: 0.3449\n",
      "- Bonus: 0.3181\n",
      "\n",
      "Kalimat yang dimasukkan: M4'in D R@'Ja9 W'3b T3r p3r'c4'ya  lg'5g dp't i'd M'4X'W'1N d3'po 100 j'd 200 df'tr d tinydd.co/MdEbYO \n",
      "Prediksi: SPAM (Berdasarkan Aturan: Terlalu banyak simbol)\n",
      "Pesan ini adalah SPAM 🚫\n",
      "\n",
      "Penjelasan: Pesan terdeteksi SPAM karena: Terlalu banyak simbol pada teks.\n",
      "\u001b[1m1/1\u001b[0m \u001b[32m━━━━━━━━━━━━━━━━━━━━\u001b[0m\u001b[37m\u001b[0m \u001b[1m0s\u001b[0m 35ms/step\n",
      "\n",
      "Kalimat yang dimasukkan: ayo makan siang\n",
      "Prediksi: Not SPAM (Probabilitas Model: 0.93)\n",
      "Pesan ini BUKAN SPAM ✅\n",
      "\u001b[1m157/157\u001b[0m \u001b[32m━━━━━━━━━━━━━━━━━━━━\u001b[0m\u001b[37m\u001b[0m \u001b[1m0s\u001b[0m 2ms/step\n",
      "\n",
      "Kata-kata yang berkontribusi (terhadap Not SPAM menurut Model):\n",
      "- siang: -0.0000\n",
      "- makan: -0.0000\n",
      "- ayo: -0.0000\n"
     ]
    }
   ],
   "source": [
    "while True:\n",
    "    user_input = input(\"\\nMasukkan kalimat (atau ketik 'exit' untuk keluar): \")\n",
    "    if user_input.lower() == 'exit':\n",
    "        break\n",
    "    predict_and_explain_spam(\n",
    "        text=user_input,\n",
    "        model=model,\n",
    "        vectorizer=vectorizer,\n",
    "        explainer=explainer,\n",
    "        class_names=['Not SPAM', 'SPAM']\n",
    "    )"
   ]
  }
 ],
 "metadata": {
  "kernelspec": {
   "display_name": "Python 3",
   "language": "python",
   "name": "python3"
  },
  "language_info": {
   "codemirror_mode": {
    "name": "ipython",
    "version": 3
   },
   "file_extension": ".py",
   "mimetype": "text/x-python",
   "name": "python",
   "nbconvert_exporter": "python",
   "pygments_lexer": "ipython3",
   "version": "3.11.0"
  }
 },
 "nbformat": 4,
 "nbformat_minor": 5
}
